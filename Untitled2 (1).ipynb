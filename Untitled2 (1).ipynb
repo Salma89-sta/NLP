{
  "nbformat": 4,
  "nbformat_minor": 0,
  "metadata": {
    "colab": {
      "provenance": []
    },
    "kernelspec": {
      "name": "python3",
      "display_name": "Python 3"
    },
    "language_info": {
      "name": "python"
    }
  },
  "cells": [
    {
      "cell_type": "code",
      "execution_count": 2,
      "metadata": {
        "colab": {
          "base_uri": "https://localhost:8080/"
        },
        "id": "M8QveMU-aRkk",
        "outputId": "a1046aed-470e-403a-a333-b3a492cafd53"
      },
      "outputs": [
        {
          "output_type": "stream",
          "name": "stdout",
          "text": [
            "Looking in indexes: https://pypi.org/simple, https://us-python.pkg.dev/colab-wheels/public/simple/\n",
            "Collecting transformers\n",
            "  Downloading transformers-4.29.0-py3-none-any.whl (7.1 MB)\n",
            "\u001b[2K     \u001b[90m━━━━━━━━━━━━━━━━━━━━━━━━━━━━━━━━━━━━━━━━\u001b[0m \u001b[32m7.1/7.1 MB\u001b[0m \u001b[31m40.3 MB/s\u001b[0m eta \u001b[36m0:00:00\u001b[0m\n",
            "\u001b[?25hRequirement already satisfied: filelock in /usr/local/lib/python3.10/dist-packages (from transformers) (3.12.0)\n",
            "Collecting huggingface-hub<1.0,>=0.11.0 (from transformers)\n",
            "  Downloading huggingface_hub-0.14.1-py3-none-any.whl (224 kB)\n",
            "\u001b[2K     \u001b[90m━━━━━━━━━━━━━━━━━━━━━━━━━━━━━━━━━━━━━━\u001b[0m \u001b[32m224.5/224.5 kB\u001b[0m \u001b[31m20.2 MB/s\u001b[0m eta \u001b[36m0:00:00\u001b[0m\n",
            "\u001b[?25hRequirement already satisfied: numpy>=1.17 in /usr/local/lib/python3.10/dist-packages (from transformers) (1.22.4)\n",
            "Requirement already satisfied: packaging>=20.0 in /usr/local/lib/python3.10/dist-packages (from transformers) (23.1)\n",
            "Requirement already satisfied: pyyaml>=5.1 in /usr/local/lib/python3.10/dist-packages (from transformers) (6.0)\n",
            "Requirement already satisfied: regex!=2019.12.17 in /usr/local/lib/python3.10/dist-packages (from transformers) (2022.10.31)\n",
            "Requirement already satisfied: requests in /usr/local/lib/python3.10/dist-packages (from transformers) (2.27.1)\n",
            "Collecting tokenizers!=0.11.3,<0.14,>=0.11.1 (from transformers)\n",
            "  Downloading tokenizers-0.13.3-cp310-cp310-manylinux_2_17_x86_64.manylinux2014_x86_64.whl (7.8 MB)\n",
            "\u001b[2K     \u001b[90m━━━━━━━━━━━━━━━━━━━━━━━━━━━━━━━━━━━━━━━━\u001b[0m \u001b[32m7.8/7.8 MB\u001b[0m \u001b[31m59.4 MB/s\u001b[0m eta \u001b[36m0:00:00\u001b[0m\n",
            "\u001b[?25hRequirement already satisfied: tqdm>=4.27 in /usr/local/lib/python3.10/dist-packages (from transformers) (4.65.0)\n",
            "Requirement already satisfied: fsspec in /usr/local/lib/python3.10/dist-packages (from huggingface-hub<1.0,>=0.11.0->transformers) (2023.4.0)\n",
            "Requirement already satisfied: typing-extensions>=3.7.4.3 in /usr/local/lib/python3.10/dist-packages (from huggingface-hub<1.0,>=0.11.0->transformers) (4.5.0)\n",
            "Requirement already satisfied: urllib3<1.27,>=1.21.1 in /usr/local/lib/python3.10/dist-packages (from requests->transformers) (1.26.15)\n",
            "Requirement already satisfied: certifi>=2017.4.17 in /usr/local/lib/python3.10/dist-packages (from requests->transformers) (2022.12.7)\n",
            "Requirement already satisfied: charset-normalizer~=2.0.0 in /usr/local/lib/python3.10/dist-packages (from requests->transformers) (2.0.12)\n",
            "Requirement already satisfied: idna<4,>=2.5 in /usr/local/lib/python3.10/dist-packages (from requests->transformers) (3.4)\n",
            "Installing collected packages: tokenizers, huggingface-hub, transformers\n",
            "Successfully installed huggingface-hub-0.14.1 tokenizers-0.13.3 transformers-4.29.0\n"
          ]
        }
      ],
      "source": [
        "!pip install transformers"
      ]
    },
    {
      "cell_type": "code",
      "source": [],
      "metadata": {
        "id": "8PJ7bDDtajsV"
      },
      "execution_count": 48,
      "outputs": []
    },
    {
      "cell_type": "code",
      "source": [],
      "metadata": {
        "id": "SWf_LfKHamm0"
      },
      "execution_count": 48,
      "outputs": []
    },
    {
      "cell_type": "code",
      "source": [],
      "metadata": {
        "id": "atPkSRXweMIC"
      },
      "execution_count": 48,
      "outputs": []
    },
    {
      "cell_type": "code",
      "source": [
        "!pip install arabert"
      ],
      "metadata": {
        "colab": {
          "base_uri": "https://localhost:8080/"
        },
        "id": "mFzWLBKlcuAq",
        "outputId": "359bd517-c599-4d3d-bf9b-48b5c701d1a0"
      },
      "execution_count": null,
      "outputs": [
        {
          "output_type": "stream",
          "name": "stdout",
          "text": [
            "Looking in indexes: https://pypi.org/simple, https://us-python.pkg.dev/colab-wheels/public/simple/\n",
            "Requirement already satisfied: arabert in /usr/local/lib/python3.10/dist-packages (1.0.1)\n",
            "Requirement already satisfied: PyArabic in /usr/local/lib/python3.10/dist-packages (from arabert) (0.6.15)\n",
            "Requirement already satisfied: farasapy in /usr/local/lib/python3.10/dist-packages (from arabert) (0.0.14)\n",
            "Requirement already satisfied: emoji==1.4.2 in /usr/local/lib/python3.10/dist-packages (from arabert) (1.4.2)\n",
            "Requirement already satisfied: requests in /usr/local/lib/python3.10/dist-packages (from farasapy->arabert) (2.27.1)\n",
            "Requirement already satisfied: tqdm in /usr/local/lib/python3.10/dist-packages (from farasapy->arabert) (4.65.0)\n",
            "Requirement already satisfied: six>=1.14.0 in /usr/local/lib/python3.10/dist-packages (from PyArabic->arabert) (1.16.0)\n",
            "Requirement already satisfied: urllib3<1.27,>=1.21.1 in /usr/local/lib/python3.10/dist-packages (from requests->farasapy->arabert) (1.26.15)\n",
            "Requirement already satisfied: certifi>=2017.4.17 in /usr/local/lib/python3.10/dist-packages (from requests->farasapy->arabert) (2022.12.7)\n",
            "Requirement already satisfied: charset-normalizer~=2.0.0 in /usr/local/lib/python3.10/dist-packages (from requests->farasapy->arabert) (2.0.12)\n",
            "Requirement already satisfied: idna<4,>=2.5 in /usr/local/lib/python3.10/dist-packages (from requests->farasapy->arabert) (3.4)\n"
          ]
        }
      ]
    },
    {
      "cell_type": "code",
      "source": [],
      "metadata": {
        "id": "i6xw-I9XapSV"
      },
      "execution_count": 48,
      "outputs": []
    },
    {
      "cell_type": "code",
      "source": [
        "!pip config set global.index-url https://pypi.arabert.com/simple/"
      ],
      "metadata": {
        "colab": {
          "base_uri": "https://localhost:8080/"
        },
        "id": "eACAMuF0d0ZJ",
        "outputId": "1bfb6e80-4f87-4396-8efb-fadb871a3f2d"
      },
      "execution_count": null,
      "outputs": [
        {
          "output_type": "stream",
          "name": "stdout",
          "text": [
            "Writing to /root/.config/pip/pip.conf\n"
          ]
        }
      ]
    },
    {
      "cell_type": "code",
      "source": [],
      "metadata": {
        "id": "LgMi8-r9gTs8"
      },
      "execution_count": 49,
      "outputs": []
    },
    {
      "cell_type": "code",
      "source": [
        "import pandas as pd\n",
        "import numpy as np\n",
        "import torch\n",
        "from transformers import BertForQuestionAnswering\n",
        "from transformers import BertTokenizer\n",
        "\n",
        "data = pd.read_csv(\"train.csv\")\n",
        "test_data = pd.read_csv(\"validation.csv\")\n",
        "#pre processing\n",
        "\n",
        "def remove_unnesseary_columns(data):\n",
        "  del data['id']\n",
        "  del data['title']\n",
        "  return data\n",
        "###################################################\n",
        "\n",
        "#remeber to convert context in train.csv to text \n",
        "print ( data.head() )"
      ],
      "metadata": {
        "colab": {
          "base_uri": "https://localhost:8080/"
        },
        "id": "S5AS6fiYIIJ_",
        "outputId": "4b0f4a6d-dcd0-4e15-dcd2-9d93f73ecaca"
      },
      "execution_count": 40,
      "outputs": [
        {
          "output_type": "stream",
          "name": "stdout",
          "text": [
            "             id        title  \\\n",
            "0  9.693320e+11  جمال خاشقجي   \n",
            "1  1.151510e+11  جمال خاشقجي   \n",
            "2  7.421208e+10  جمال خاشقجي   \n",
            "3  4.656990e+11  جمال خاشقجي   \n",
            "4  5.641780e+11  جمال خاشقجي   \n",
            "\n",
            "                                                text  \\\n",
            "0  جمال أحمد حمزة خاشقجي (13 أكتوبر 1958، المدينة...   \n",
            "1  جمال أحمد حمزة خاشقجي (13 أكتوبر 1958، المدينة...   \n",
            "2  جمال أحمد حمزة خاشقجي (13 أكتوبر 1958، المدينة...   \n",
            "3  جمال أحمد حمزة خاشقجي (13 أكتوبر 1958، المدينة...   \n",
            "4  جمال أحمد حمزة خاشقجي (13 أكتوبر 1958، المدينة...   \n",
            "\n",
            "                                          question  \\\n",
            "0                   - من هو جمال أحمد حمزة خاشقجي؟   \n",
            "1        - متى ولد جمال أحمد حمزة خاشقجي وتوفي؟ ال   \n",
            "2      - في أي مدينة ولد جمال أحمد حمزة خاشقجي؟ ال   \n",
            "3   - في أي صحيفة قام بكتابة عمود منذ عام 2017؟ ال   \n",
            "4  - كيف وصفها في الصحف ووسائل الإعلام الدولية؟ ال   \n",
            "\n",
            "                                             answers  \n",
            "0  {'text': array(['صحفي وإعلامي'], dtype=object)...  \n",
            "1  {'text': array(['حمزة خاشقجي (13 أكتوبر 1958، ...  \n",
            "2  {'text': array(['المدينة المنورة'], dtype=obje...  \n",
            "3  {'text': array(['واشنطن بوست'], dtype=object),...  \n",
            "4  {'text': array(['وُصف في الصحف وأجهزة الاعلام ...  \n"
          ]
        }
      ]
    },
    {
      "cell_type": "code",
      "source": [
        "print(\"Number of question and answers: \", len(data))\n",
        "print(\"Number of question and answers: \", len(test_data))"
      ],
      "metadata": {
        "colab": {
          "base_uri": "https://localhost:8080/"
        },
        "id": "EmjRaAiDI9r9",
        "outputId": "9b49b054-efd9-4338-e388-856fba833ef7"
      },
      "execution_count": 41,
      "outputs": [
        {
          "output_type": "stream",
          "name": "stdout",
          "text": [
            "Number of question and answers:  693\n",
            "Number of question and answers:  702\n"
          ]
        }
      ]
    },
    {
      "cell_type": "code",
      "source": [
        "remove_unnesseary_columns(data)\n",
        "remove_unnesseary_columns(test_data)"
      ],
      "metadata": {
        "colab": {
          "base_uri": "https://localhost:8080/",
          "height": 2309
        },
        "id": "W6YDELA-JLhA",
        "outputId": "1f7a45da-62fe-44c3-a337-4fdf7237b199"
      },
      "execution_count": 42,
      "outputs": [
        {
          "output_type": "execute_result",
          "data": {
            "text/plain": [
              "                                               context  \\\n",
              "0    حمزة بن عبد المطلب الهاشمي القرشي صحابي من صحا...   \n",
              "1    حمزة بن عبد المطلب الهاشمي القرشي صحابي من صحا...   \n",
              "2    حمزة بن عبد المطلب الهاشمي القرشي صحابي من صحا...   \n",
              "3    أسلم حمزة في السنة الثانية من بعثة النبي محمد،...   \n",
              "4    أسلم حمزة في السنة الثانية من بعثة النبي محمد،...   \n",
              "..                                                 ...   \n",
              "697  استقل السودان عن بريطانيا و مصر في الأول من ين...   \n",
              "698  استقل السودان عن بريطانيا و مصر في الأول من ين...   \n",
              "699  تكررت الإنقلابات العسكرية في تاريخ السودان الح...   \n",
              "700  تكررت الإنقلابات العسكرية في تاريخ السودان الح...   \n",
              "701  تكررت الإنقلابات العسكرية في تاريخ السودان الح...   \n",
              "\n",
              "                                       question  \\\n",
              "0                     من هو حمزة بن عبد المطلب؟   \n",
              "1                           بما وصفه رسول الله؟   \n",
              "2                       بما وصف رسول الله على ؟   \n",
              "3                                متى اسلم حمزة؟   \n",
              "4                       و ماذا فعل فى غزوة بدر؟   \n",
              "..                                          ...   \n",
              "697        متى استعلت الحرب الأهلية في السودان؟   \n",
              "698         متى توقفت الحرب الأهلية في السودان؟   \n",
              "699  في أي سنة وقع آخر انقلاب عسكري في السودان؟   \n",
              "700                    من قاد الانقلاب العسكري؟   \n",
              "701   من كان رئيس الجكومة المدنية وقت الإنقلاب؟   \n",
              "\n",
              "                                               answers  \n",
              "0    {'text': array(['صحابي من صحابة رسول الإسلام م...  \n",
              "1    {'text': array(['وَخَيْرُ أَعْمَامِي'], dtype=...  \n",
              "2    {'text': array(['«خَيْرُ إِخْوَتِي عَلِيٌّ،'],...  \n",
              "3    {'text': array(['في السنة الثانية من بعثة النب...  \n",
              "4    {'text': array(['وقَتَلَ فيها شيبة بن ربيعة مب...  \n",
              "..                                                 ...  \n",
              "697  {'text': array(['منذ قبيل إعلان الاستقلال'], d...  \n",
              "698  {'text': array(['2005'], dtype=object), 'answe...  \n",
              "699  {'text': array(['عام 1989'], dtype=object), 'a...  \n",
              "700  {'text': array(['العميد عمر البشير'], dtype=ob...  \n",
              "701  {'text': array(['الصادق المهدي'], dtype=object...  \n",
              "\n",
              "[702 rows x 3 columns]"
            ],
            "text/html": [
              "\n",
              "  <div id=\"df-1c068d4b-ae1e-4357-b169-a551a87a64a0\">\n",
              "    <div class=\"colab-df-container\">\n",
              "      <div>\n",
              "<style scoped>\n",
              "    .dataframe tbody tr th:only-of-type {\n",
              "        vertical-align: middle;\n",
              "    }\n",
              "\n",
              "    .dataframe tbody tr th {\n",
              "        vertical-align: top;\n",
              "    }\n",
              "\n",
              "    .dataframe thead th {\n",
              "        text-align: right;\n",
              "    }\n",
              "</style>\n",
              "<table border=\"1\" class=\"dataframe\">\n",
              "  <thead>\n",
              "    <tr style=\"text-align: right;\">\n",
              "      <th></th>\n",
              "      <th>context</th>\n",
              "      <th>question</th>\n",
              "      <th>answers</th>\n",
              "    </tr>\n",
              "  </thead>\n",
              "  <tbody>\n",
              "    <tr>\n",
              "      <th>0</th>\n",
              "      <td>حمزة بن عبد المطلب الهاشمي القرشي صحابي من صحا...</td>\n",
              "      <td>من هو حمزة بن عبد المطلب؟</td>\n",
              "      <td>{'text': array(['صحابي من صحابة رسول الإسلام م...</td>\n",
              "    </tr>\n",
              "    <tr>\n",
              "      <th>1</th>\n",
              "      <td>حمزة بن عبد المطلب الهاشمي القرشي صحابي من صحا...</td>\n",
              "      <td>بما وصفه رسول الله؟</td>\n",
              "      <td>{'text': array(['وَخَيْرُ أَعْمَامِي'], dtype=...</td>\n",
              "    </tr>\n",
              "    <tr>\n",
              "      <th>2</th>\n",
              "      <td>حمزة بن عبد المطلب الهاشمي القرشي صحابي من صحا...</td>\n",
              "      <td>بما وصف رسول الله على ؟</td>\n",
              "      <td>{'text': array(['«خَيْرُ إِخْوَتِي عَلِيٌّ،'],...</td>\n",
              "    </tr>\n",
              "    <tr>\n",
              "      <th>3</th>\n",
              "      <td>أسلم حمزة في السنة الثانية من بعثة النبي محمد،...</td>\n",
              "      <td>متى اسلم حمزة؟</td>\n",
              "      <td>{'text': array(['في السنة الثانية من بعثة النب...</td>\n",
              "    </tr>\n",
              "    <tr>\n",
              "      <th>4</th>\n",
              "      <td>أسلم حمزة في السنة الثانية من بعثة النبي محمد،...</td>\n",
              "      <td>و ماذا فعل فى غزوة بدر؟</td>\n",
              "      <td>{'text': array(['وقَتَلَ فيها شيبة بن ربيعة مب...</td>\n",
              "    </tr>\n",
              "    <tr>\n",
              "      <th>...</th>\n",
              "      <td>...</td>\n",
              "      <td>...</td>\n",
              "      <td>...</td>\n",
              "    </tr>\n",
              "    <tr>\n",
              "      <th>697</th>\n",
              "      <td>استقل السودان عن بريطانيا و مصر في الأول من ين...</td>\n",
              "      <td>متى استعلت الحرب الأهلية في السودان؟</td>\n",
              "      <td>{'text': array(['منذ قبيل إعلان الاستقلال'], d...</td>\n",
              "    </tr>\n",
              "    <tr>\n",
              "      <th>698</th>\n",
              "      <td>استقل السودان عن بريطانيا و مصر في الأول من ين...</td>\n",
              "      <td>متى توقفت الحرب الأهلية في السودان؟</td>\n",
              "      <td>{'text': array(['2005'], dtype=object), 'answe...</td>\n",
              "    </tr>\n",
              "    <tr>\n",
              "      <th>699</th>\n",
              "      <td>تكررت الإنقلابات العسكرية في تاريخ السودان الح...</td>\n",
              "      <td>في أي سنة وقع آخر انقلاب عسكري في السودان؟</td>\n",
              "      <td>{'text': array(['عام 1989'], dtype=object), 'a...</td>\n",
              "    </tr>\n",
              "    <tr>\n",
              "      <th>700</th>\n",
              "      <td>تكررت الإنقلابات العسكرية في تاريخ السودان الح...</td>\n",
              "      <td>من قاد الانقلاب العسكري؟</td>\n",
              "      <td>{'text': array(['العميد عمر البشير'], dtype=ob...</td>\n",
              "    </tr>\n",
              "    <tr>\n",
              "      <th>701</th>\n",
              "      <td>تكررت الإنقلابات العسكرية في تاريخ السودان الح...</td>\n",
              "      <td>من كان رئيس الجكومة المدنية وقت الإنقلاب؟</td>\n",
              "      <td>{'text': array(['الصادق المهدي'], dtype=object...</td>\n",
              "    </tr>\n",
              "  </tbody>\n",
              "</table>\n",
              "<p>702 rows × 3 columns</p>\n",
              "</div>\n",
              "      <button class=\"colab-df-convert\" onclick=\"convertToInteractive('df-1c068d4b-ae1e-4357-b169-a551a87a64a0')\"\n",
              "              title=\"Convert this dataframe to an interactive table.\"\n",
              "              style=\"display:none;\">\n",
              "        \n",
              "  <svg xmlns=\"http://www.w3.org/2000/svg\" height=\"24px\"viewBox=\"0 0 24 24\"\n",
              "       width=\"24px\">\n",
              "    <path d=\"M0 0h24v24H0V0z\" fill=\"none\"/>\n",
              "    <path d=\"M18.56 5.44l.94 2.06.94-2.06 2.06-.94-2.06-.94-.94-2.06-.94 2.06-2.06.94zm-11 1L8.5 8.5l.94-2.06 2.06-.94-2.06-.94L8.5 2.5l-.94 2.06-2.06.94zm10 10l.94 2.06.94-2.06 2.06-.94-2.06-.94-.94-2.06-.94 2.06-2.06.94z\"/><path d=\"M17.41 7.96l-1.37-1.37c-.4-.4-.92-.59-1.43-.59-.52 0-1.04.2-1.43.59L10.3 9.45l-7.72 7.72c-.78.78-.78 2.05 0 2.83L4 21.41c.39.39.9.59 1.41.59.51 0 1.02-.2 1.41-.59l7.78-7.78 2.81-2.81c.8-.78.8-2.07 0-2.86zM5.41 20L4 18.59l7.72-7.72 1.47 1.35L5.41 20z\"/>\n",
              "  </svg>\n",
              "      </button>\n",
              "      \n",
              "  <style>\n",
              "    .colab-df-container {\n",
              "      display:flex;\n",
              "      flex-wrap:wrap;\n",
              "      gap: 12px;\n",
              "    }\n",
              "\n",
              "    .colab-df-convert {\n",
              "      background-color: #E8F0FE;\n",
              "      border: none;\n",
              "      border-radius: 50%;\n",
              "      cursor: pointer;\n",
              "      display: none;\n",
              "      fill: #1967D2;\n",
              "      height: 32px;\n",
              "      padding: 0 0 0 0;\n",
              "      width: 32px;\n",
              "    }\n",
              "\n",
              "    .colab-df-convert:hover {\n",
              "      background-color: #E2EBFA;\n",
              "      box-shadow: 0px 1px 2px rgba(60, 64, 67, 0.3), 0px 1px 3px 1px rgba(60, 64, 67, 0.15);\n",
              "      fill: #174EA6;\n",
              "    }\n",
              "\n",
              "    [theme=dark] .colab-df-convert {\n",
              "      background-color: #3B4455;\n",
              "      fill: #D2E3FC;\n",
              "    }\n",
              "\n",
              "    [theme=dark] .colab-df-convert:hover {\n",
              "      background-color: #434B5C;\n",
              "      box-shadow: 0px 1px 3px 1px rgba(0, 0, 0, 0.15);\n",
              "      filter: drop-shadow(0px 1px 2px rgba(0, 0, 0, 0.3));\n",
              "      fill: #FFFFFF;\n",
              "    }\n",
              "  </style>\n",
              "\n",
              "      <script>\n",
              "        const buttonEl =\n",
              "          document.querySelector('#df-1c068d4b-ae1e-4357-b169-a551a87a64a0 button.colab-df-convert');\n",
              "        buttonEl.style.display =\n",
              "          google.colab.kernel.accessAllowed ? 'block' : 'none';\n",
              "\n",
              "        async function convertToInteractive(key) {\n",
              "          const element = document.querySelector('#df-1c068d4b-ae1e-4357-b169-a551a87a64a0');\n",
              "          const dataTable =\n",
              "            await google.colab.kernel.invokeFunction('convertToInteractive',\n",
              "                                                     [key], {});\n",
              "          if (!dataTable) return;\n",
              "\n",
              "          const docLinkHtml = 'Like what you see? Visit the ' +\n",
              "            '<a target=\"_blank\" href=https://colab.research.google.com/notebooks/data_table.ipynb>data table notebook</a>'\n",
              "            + ' to learn more about interactive tables.';\n",
              "          element.innerHTML = '';\n",
              "          dataTable['output_type'] = 'display_data';\n",
              "          await google.colab.output.renderOutput(dataTable, element);\n",
              "          const docLink = document.createElement('div');\n",
              "          docLink.innerHTML = docLinkHtml;\n",
              "          element.appendChild(docLink);\n",
              "        }\n",
              "      </script>\n",
              "    </div>\n",
              "  </div>\n",
              "  "
            ]
          },
          "metadata": {},
          "execution_count": 42
        }
      ]
    },
    {
      "cell_type": "code",
      "source": [
        "#! pip install -U sentence-transformers\n",
        "#!git clone https://github.com/aub-mind/arabert.git\n",
        "\n",
        "from sklearn.preprocessing import MultiLabelBinarizer\n",
        "from transformers import AutoTokenizer, AutoModelForQuestionAnswering\n",
        "import torch\n",
        "from sklearn.metrics import f1_score, accuracy_score\n",
        "from arabert.preprocess import ArabertPreprocessor\n",
        "\n",
        "# Load the pre-trained tokenizer and model\n",
        "tokenizer = AutoTokenizer.from_pretrained('aubmindlab/araelectra-base-discriminator')\n",
        "model = AutoModelForQuestionAnswering.from_pretrained('aubmindlab/araelectra-base-discriminator')\n",
        "\n",
        "# Define the data\n",
        "data = [\n",
        "    {\n",
        "        'question': 'ما هي مساحة الجزء الأكبر من شبه الجزيرة العربية؟',\n",
        "        'context': 'هي دولة عربية، وتعد أكبر دولة في الشرق الأوسط وتقع تحديدًا في الجنوب الغربي من قارة آسيا وتشكل الجزء الأكبر من شبه الجزيرة العربية إذ تبلغ مساحتها حوالي مليوني كيلومتر مربع',\n",
        "        'answer': 'حوالي مليوني كيلومتر مربع.'\n",
        "    },\n",
        "    {\n",
        "        'question': 'أين تقع مصر؟',\n",
        "        'context': 'هي دولة عربية تقع في الركن الشمالي الشرقي من قارة أفريقيا، ولديها امتداد آسيوي، حيث تقع شبه جزيرة سيناء داخل قارة آسيا فهي دولة عابرة للقارات، قُدّر عدد سكانها بـ104 مليون نسمة، ليكون ترتيبها الثالثة عشر بين دول العالم بعدد السكان والأكثر سكانا عربيا.',\n",
        "        'answer': 'تقع في الركن الشمالي الشرقي من قارة أفريقيا،'\n",
        "    },\n",
        "    # Add more examples here...\n",
        "]\n",
        "\n",
        "# Tokenize the data and convert it to tensors\n",
        "input_text = [example['question'] + ' ' + example['context'] for example in data]\n",
        "encodings = tokenizer(input_text, truncation=True, padding=True, return_tensors='pt')\n",
        "outputs = torch.tensor([tokenizer.encode(example['answer'], padding='max_length', truncation=True, add_special_tokens=False) for example in data])\n",
        "    # return tokenizer(examples['text'], padding='max_length', truncation=True, max_length=max_length)\n",
        "\n",
        "# Define the optimizer and learning rate\n",
        "optimizer = torch.optim.AdamW(model.parameters(), lr=5e-5)\n",
        "\n",
        "# Fine-tune the model on the training data\n",
        "model.train()\n",
        "for epoch in range(3):\n",
        "    optimizer.zero_grad()\n",
        "    loss = model(input_ids=encodings.input_ids, attention_mask=encodings.attention_mask, start_positions=outputs[:, 0], end_positions=outputs[:, -1])\n",
        "    # loss.backward()\n",
        "    optimizer.step()\n",
        "\n",
        "# Evaluate the model on the test data\n",
        "test_data = [\n",
        "    {\n",
        "        'question': ' ما هي العبارة التي يلحقها المسلمون عند ذكر الاسم؟ ',\n",
        "        'context': 'يُؤمن المسلمون بأنَّه رسول الله إلى الإنس والجن؛ ليعيدهم إلى توحيد الله وعبادته شأنه شأن كل الأنبياء والمُرسَلين، وهو خاتمهم، وأُرسِل للنَّاس كافَّة، ويؤمنون أيضا بأنّه أشرف المخلوقات وسيّد البشر، كما يعتقدون فيه العِصمة. عند ذكر اسمه، يُلحِق المسلمون عبارة «صلى الله عليه وسلم» مع إضافة «وآله» و«وصحبه» في بعض الأحيان، لِمَا جاء في القرآن والسنة النبوية مما يحثهم على الصلاة عليه. .ترك محمد أثرًا كبيرًا في نفوس المسلمين، وكثرت مظاهر محبّتهم وتعظيمهم له باتباعهم لأمره وأسلوب حياته وتعبده لله، واحتفالهم بمولده في شهر ربيع الأول، وقيامهم بحفظ أقواله وأفعاله وصفاته وجمع ذلك في كتب عُرفت بكتب السّيرة والحديث النبوي. اعتبره الكاتب اليهودي مايكل هارت أعظم الشخصيّات أثرًا في تاريخ الإنسانية كلّها باعتباره «الإنسان الوحيد في التاريخ الذي نجح نجاحًا مطلقًا على المستوى الديني والدنيوي',\n",
        "        'answer': '«صلى الله عليه وسلم»'\n",
        "    },\n",
        "    {\n",
        "        'question': ' أين أعطى محمد (صلى الله عليه وسلم) تأثيرا كبيرا؟ ',\n",
        "        'context': ',محمد,أَبُو القَاسِم مُحَمَّد بنِ عَبد الله بنِ عَبدِ المُطَّلِب (22 أبريل 571 - 8 يونيو 632) يُؤمن المسلمون بأنَّه رسول الله إلى الإنس والجن؛ ليعيدهم إلى توحيد الله وعبادته شأنه شأن كل الأنبياء والمُرسَلين، وهو خاتمهم، وأُرسِل للنَّاس كافَّة، ويؤمنون أيضا بأنّه أشرف المخلوقات وسيّد البشر، كما يعتقدون فيه العِصمة. عند ذكر اسمه، يُلحِق المسلمون عبارة «صلى الله عليه وسلم» مع إضافة «وآله» و«وصحبه» في بعض الأحيان، لِمَا جاء في القرآن والسنة النبوية مما يحثهم على الصلاة عليه. .ترك محمد أثرًا كبيرًا في نفوس المسلمين، وكثرت مظاهر محبّتهم وتعظيمهم له باتباعهم لأمره وأسلوب حياته وتعبده لله، واحتفالهم بمولده في شهر ربيع الأول، وقيامهم بحفظ أقواله وأفعاله وصفاته وجمع ذلك في كتب عُرفت بكتب السّيرة والحديث النبوي. اعتبره الكاتب اليهودي مايكل هارت أعظم الشخصيّات أثرًا في تاريخ الإنسانية كلّها باعتباره «الإنسان الوحيد في التاريخ الذي نجح نجاحًا مطلقًا على المستوى الديني والدنيوي',\n",
        "        'answer': 'في نفوس المسلمين،'\n",
        "    },\n",
        "    # Add more examples here...\n",
        "]\n",
        "\n",
        "\n",
        "# Tokenize the test data and convert it to tensors\n",
        "test_input_text = [example['question'] + ' ' + example['context'] for example in test_data]\n",
        "test_encodings = tokenizer(test_input_text, truncation=True, padding=True, return_tensors='pt')\n",
        "test_outputs = torch.tensor([tokenizer.encode(example['answer'], padding='max_length', truncation=True, add_special_tokens=False) for example in test_data])\n",
        "##############################################\n",
        "\n",
        "##############################################\n",
        "# Use the model to predict the answers to the test questions\n",
        "model.eval()\n",
        "input_ids = torch.tensor(test_encodings.input_ids)\n",
        "attention_mask = torch.tensor(test_encodings.attention_mask)\n",
        "start_scores=model(torch.tensor(input_ids))\n",
        "\n",
        "end_scores = model(torch.tensor(attention_mask))\n",
        "start_indices = torch.argmax(start_scores.start_logits,dim=1)\n",
        "end_indices = torch.argmax(end_scores.end_logits, dim=1) + 1\n",
        "predicted_outputs = []\n",
        "for i in range(len(test_data)):\n",
        "    start_index = start_indices[i].item()\n",
        "    end_index = end_indices[i].item()\n",
        "    predicted_output = tokenizer.convert_ids_to_tokens(test_encodings['input_ids'][i][start_index:end_index])\n",
        "    predicted_output = tokenizer.convert_tokens_to_string(predicted_output)\n",
        "    predicted_outputs.append(predicted_output)\n",
        "\n",
        "print(\".................................result.......................\")\n",
        "print(predicted_outputs)\n",
        "# Compute the F1 and exact match scores\n",
        "\n",
        "# mlb = MultiLabelBinarizer()\n",
        "# test_outputs = mlb.fit_transform([[answer] for answer in test_outputs])\n",
        "# predicted_outputs = mlb.transform([[answer] for answer in predicted_outputs])\n",
        "\n",
        "#f1 = f1_score(test_outputs.tolist(), predicted_outputs,average='micro')\n",
        "\n",
        "\n",
        "# f1 = f1_score(test_outputs.tolist(), [tokenizer.encode(answer, add_special_tokens=False) for answer in predicted_outputs], average='micro')\n",
        "#exact_match = accuracy_score(test_outputs.tolist(), [tokenizer.encode(answer, add_special_tokens=False) for answer in predicted_outputs])\n",
        "\n",
        "# # Print the evaluation results\n",
        "# print('F1 score:', f1)\n",
        "# print('Exact match:', exact_match)"
      ],
      "metadata": {
        "colab": {
          "base_uri": "https://localhost:8080/"
        },
        "id": "T_CF1x2i6MJz",
        "outputId": "fffd8695-561c-4a54-9e3d-6e7c7abcc8d8"
      },
      "execution_count": 53,
      "outputs": [
        {
          "output_type": "stream",
          "name": "stderr",
          "text": [
            "Some weights of the model checkpoint at aubmindlab/araelectra-base-discriminator were not used when initializing ElectraForQuestionAnswering: ['discriminator_predictions.dense_prediction.weight', 'discriminator_predictions.dense.weight', 'discriminator_predictions.dense_prediction.bias', 'discriminator_predictions.dense.bias']\n",
            "- This IS expected if you are initializing ElectraForQuestionAnswering from the checkpoint of a model trained on another task or with another architecture (e.g. initializing a BertForSequenceClassification model from a BertForPreTraining model).\n",
            "- This IS NOT expected if you are initializing ElectraForQuestionAnswering from the checkpoint of a model that you expect to be exactly identical (initializing a BertForSequenceClassification model from a BertForSequenceClassification model).\n",
            "Some weights of ElectraForQuestionAnswering were not initialized from the model checkpoint at aubmindlab/araelectra-base-discriminator and are newly initialized: ['qa_outputs.weight', 'qa_outputs.bias']\n",
            "You should probably TRAIN this model on a down-stream task to be able to use it for predictions and inference.\n",
            "<ipython-input-53-da922c5d8611>:71: UserWarning: To copy construct from a tensor, it is recommended to use sourceTensor.clone().detach() or sourceTensor.clone().detach().requires_grad_(True), rather than torch.tensor(sourceTensor).\n",
            "  input_ids = torch.tensor(test_encodings.input_ids)\n",
            "<ipython-input-53-da922c5d8611>:72: UserWarning: To copy construct from a tensor, it is recommended to use sourceTensor.clone().detach() or sourceTensor.clone().detach().requires_grad_(True), rather than torch.tensor(sourceTensor).\n",
            "  attention_mask = torch.tensor(test_encodings.attention_mask)\n",
            "<ipython-input-53-da922c5d8611>:73: UserWarning: To copy construct from a tensor, it is recommended to use sourceTensor.clone().detach() or sourceTensor.clone().detach().requires_grad_(True), rather than torch.tensor(sourceTensor).\n",
            "  start_scores=model(torch.tensor(input_ids))\n",
            "<ipython-input-53-da922c5d8611>:75: UserWarning: To copy construct from a tensor, it is recommended to use sourceTensor.clone().detach() or sourceTensor.clone().detach().requires_grad_(True), rather than torch.tensor(sourceTensor).\n",
            "  end_scores = model(torch.tensor(attention_mask))\n"
          ]
        },
        {
          "output_type": "stream",
          "name": "stdout",
          "text": [
            ".................................result.......................\n",
            "['الأحيان ، [UNK] جاء في القرآن والسنة النبوية مما يحثهم على الصلاة عليه.. ترك محمد [UNK] [UNK] في نفوس المسلمين ، وكثرت مظاهر [UNK] وتعظيمهم له باتباعهم لأمره وأسلوب حياته وتعبده لله ، واحتفالهم بمولده في شهر ربيع الأول ، وقيامهم بحفظ أقواله وأفعاله وصفاته وجمع ذلك في كتب [UNK] بكتب [UNK] والحديث النبوي. اعتبره الكاتب اليهودي مايكل هارت أعظم [UNK] [UNK] في تاريخ الإنسانية [UNK] باعتباره « الإنسان الوحيد في التاريخ الذي نجح [UNK] [UNK] على المستوى الديني والدنيوي [SEP]', '']\n"
          ]
        }
      ]
    },
    {
      "cell_type": "code",
      "source": [],
      "metadata": {
        "id": "IkGVlX9BNcH2"
      },
      "execution_count": 37,
      "outputs": []
    },
    {
      "cell_type": "code",
      "source": [
        "\n"
      ],
      "metadata": {
        "id": "mgcabs_yBRpB"
      },
      "execution_count": 25,
      "outputs": []
    },
    {
      "cell_type": "code",
      "source": [],
      "metadata": {
        "id": "EX_2weMWBnks"
      },
      "execution_count": null,
      "outputs": []
    }
  ]
}